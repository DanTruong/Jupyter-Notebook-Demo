{
 "cells": [
  {
   "cell_type": "code",
   "execution_count": 21,
   "metadata": {},
   "outputs": [
    {
     "data": {
      "text/plain": [
       "'1002501'"
      ]
     },
     "execution_count": 21,
     "metadata": {},
     "output_type": "execute_result"
    }
   ],
   "source": [
    "import csv, numpy, pandas\n",
    "\n",
    "## Read in data.csv\n",
    "dataFile = csv.reader(open(\"data.csv\"))\n",
    "\n",
    "## Assign elements in csv file to structure\n",
    "data = []\n",
    "for row in dataFile:\n",
    "    data.append(row)\n",
    "\n",
    "## Isolate variable names from header\n",
    "header = data[0]\n",
    "data.pop(0)\n",
    "\n",
    "#print(pandas.DataFrame(data, columns = header))\n",
    "data[0][0]"
   ]
  }
 ],
 "metadata": {
  "kernelspec": {
   "display_name": "Python 3",
   "language": "python",
   "name": "python3"
  },
  "language_info": {
   "codemirror_mode": {
    "name": "ipython",
    "version": 3
   },
   "file_extension": ".py",
   "mimetype": "text/x-python",
   "name": "python",
   "nbconvert_exporter": "python",
   "pygments_lexer": "ipython3",
   "version": "3.6.3"
  }
 },
 "nbformat": 4,
 "nbformat_minor": 2
}
