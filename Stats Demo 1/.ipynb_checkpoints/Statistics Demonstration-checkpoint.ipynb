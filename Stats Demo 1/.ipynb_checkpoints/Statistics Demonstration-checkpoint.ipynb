{
 "cells": [
  {
   "cell_type": "markdown",
   "metadata": {},
   "source": [
    "## Hello, this is test Text"
   ]
  },
  {
   "cell_type": "markdown",
   "metadata": {},
   "source": [
    "Lorem ipsum dolor sit amet, consectetur adipiscing elit, sed do eiusmod tempor incididunt ut labore et dolore magna aliqua. Sapien et ligula ullamcorper malesuada proin libero nunc consequat. Vitae sapien pellentesque habitant morbi tristique senectus et netus. Ultricies lacus sed turpis tincidunt id aliquet risus feugiat. Interdum velit laoreet id donec ultrices tincidunt arcu non sodales. Duis convallis convallis tellus id interdum. In hendrerit gravida rutrum quisque. Et netus et malesuada fames ac turpis egestas. Urna nec tincidunt praesent semper feugiat nibh sed. Ut morbi tincidunt augue interdum. Sed risus ultricies tristique nulla aliquet enim tortor. Ornare arcu odio ut sem nulla pharetra diam sit amet. Nibh venenatis cras sed felis eget. Egestas dui id ornare arcu odio ut sem nulla pharetra. In fermentum et sollicitudin ac orci phasellus egestas tellus. Sed ullamcorper morbi tincidunt ornare massa. Enim nunc faucibus a pellentesque sit. Lobortis elementum nibh tellus molestie nunc. Pretium nibh ipsum consequat nisl vel. Enim praesent elementum facilisis leo vel."
   ]
  },
  {
   "cell_type": "code",
   "execution_count": 1,
   "metadata": {},
   "outputs": [
    {
     "name": "stdout",
     "output_type": "stream",
     "text": [
      "Hello World\n"
     ]
    },
    {
     "data": {
      "text/plain": [
       "10"
      ]
     },
     "execution_count": 1,
     "metadata": {},
     "output_type": "execute_result"
    }
   ],
   "source": [
    "print(\"Hello World\")\n",
    "2 + 2 * 4"
   ]
  },
  {
   "cell_type": "code",
   "execution_count": null,
   "metadata": {
    "collapsed": true
   },
   "outputs": [],
   "source": []
  }
 ],
 "metadata": {
  "kernelspec": {
   "display_name": "Python 3",
   "language": "python",
   "name": "python3"
  },
  "language_info": {
   "codemirror_mode": {
    "name": "ipython",
    "version": 3
   },
   "file_extension": ".py",
   "mimetype": "text/x-python",
   "name": "python",
   "nbconvert_exporter": "python",
   "pygments_lexer": "ipython3",
   "version": "3.6.3"
  }
 },
 "nbformat": 4,
 "nbformat_minor": 2
}
