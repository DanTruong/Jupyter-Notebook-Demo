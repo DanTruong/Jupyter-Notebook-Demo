{
 "cells": [
  {
   "cell_type": "markdown",
   "metadata": {
    "collapsed": true
   },
   "source": [
    "The purpose of this demo document is to show the capabilities of Python towards performing hypothesis testing. For a test example, we'll look at a hypothetical scenario where the effect of ascorbic acid is evaluated against the common cold. The data is based on a 1961 experiment where 279 French skiers were given either ascorbic acid or a placebo. After two weeks, they were examined to determine if they still had symptoms of the cold. \n",
    "\n",
    "| Treatment     | Cold | No Cold | Total |\n",
    "|---------------|------|---------|-------|\n",
    "| Placebo       | 31   | 109     | 140   |\n",
    "| Ascorbic Acid | 17   | 122     | 139   |\n",
    "| Total         | 48   | 231     | 279   |\n",
    "\n"
   ]
  },
  {
   "cell_type": "markdown",
   "metadata": {},
   "source": [
    "## Defining the Null and Alternative Hypothesis\n",
    "\n",
    "To define the null and alternative hypotheses, we must frame them off of what we are looking to investigate. As defined above, we want to see how effective Ascorbic Acid is in preventing cold symptoms (link between ascorbic acid and cold symptoms). Because this is a case-control experiment, we'll define the case as those that have cold symptoms and the control as those without. Let $P_1$ be the amount of Ascorbic Acid user that are afflicted with the cold and $P_2$ without.\n",
    "\n",
    "* $H_0: P_1 = P_2$\n",
    "* $H_1: P_1 \\neq P_2$"
   ]
  },
  {
   "cell_type": "markdown",
   "metadata": {},
   "source": [
    "## Generate Expected Distribution"
   ]
  },
  {
   "cell_type": "code",
   "execution_count": 12,
   "metadata": {},
   "outputs": [
    {
     "data": {
      "text/plain": [
       "{'Ascorbic Acid Treatment, Cold Symptoms': 23.913978494623656,\n",
       " 'Ascorbic Acid Treatment, No Cold Symptoms': 115.08602150537635,\n",
       " 'Placebo Treatment, Cold Symptoms': 24.086021505376344,\n",
       " 'Placebo Treatment, No Cold Symptoms': 115.91397849462365}"
      ]
     },
     "execution_count": 12,
     "metadata": {},
     "output_type": "execute_result"
    }
   ],
   "source": [
    "## Observed Distribution Array\n",
    "obs = {\n",
    "    \"a\" : 17, ## Ascorbic Acid Treatment, Cold Symptoms \n",
    "    \"b\" : 31, ## Placebo Treatment, Cold Symptoms\n",
    "    \"c\" : 122, ## Ascorbic Acid Treatment, No Cold Symptoms\n",
    "    \"d\" : 109 ## Placebo Treatment, No Cold Symptoms\n",
    "}\n",
    "\n",
    "n = sum(obs.values()) ## Sum of participants\n",
    "\n",
    "aEXP = (obs['a'] + obs['b']) * (obs['a'] + obs['c']) / n\n",
    "bEXP = (obs['a'] + obs['b']) * (obs['b'] + obs['d']) / n\n",
    "cEXP = (obs['c'] + obs['d']) * (obs['a'] + obs['c']) / n\n",
    "dEXP = (obs['c'] + obs['d']) * (obs['b'] + obs['d']) / n\n",
    "\n",
    "## Expected Distribution Array\n",
    "exp = {\n",
    "    \"Ascorbic Acid Treatment, Cold Symptoms\" : aEXP,\n",
    "    \"Placebo Treatment, Cold Symptoms\" : bEXP,\n",
    "    \"Ascorbic Acid Treatment, No Cold Symptoms\" : cEXP,\n",
    "    \"Placebo Treatment, No Cold Symptoms\" : dEXP\n",
    "}\n",
    "\n",
    "exp"
   ]
  },
  {
   "cell_type": "markdown",
   "metadata": {},
   "source": [
    "## ${\\chi}^2$ Distribution"
   ]
  },
  {
   "cell_type": "code",
   "execution_count": 20,
   "metadata": {},
   "outputs": [
    {
     "data": {
      "text/plain": [
       "4.81141264632079"
      ]
     },
     "execution_count": 20,
     "metadata": {},
     "output_type": "execute_result"
    }
   ],
   "source": [
    "arrVals = [\n",
    "    abs(obs['a'] - aEXP) ** 2 / aEXP,\n",
    "    abs(obs['b'] - bEXP) ** 2 / bEXP,\n",
    "    abs(obs['c'] - cEXP) ** 2 / cEXP,\n",
    "    abs(obs['d'] - dEXP) ** 2 / dEXP,\n",
    "]\n",
    "\n",
    "sum(arrVals) ## The Chi-Squared Value"
   ]
  },
  {
   "cell_type": "markdown",
   "metadata": {},
   "source": [
    "#### P-value (with 1 DF)"
   ]
  },
  {
   "cell_type": "code",
   "execution_count": 35,
   "metadata": {},
   "outputs": [
    {
     "data": {
      "text/plain": [
       "0.0282718602468226"
      ]
     },
     "execution_count": 35,
     "metadata": {},
     "output_type": "execute_result"
    }
   ],
   "source": [
    "from scipy import stats\n",
    "pValueChiSq = 1 - stats.chi2.cdf(sum(arrVals) , 1) \n",
    "pValueChiSq"
   ]
  },
  {
   "cell_type": "markdown",
   "metadata": {},
   "source": [
    "Based on the p-value from the ${\\chi}^2$ test (p < 0.05), we can reject the null hypothesis that there is not a difference between Ascorbic Acid and placebo treatments."
   ]
  },
  {
   "cell_type": "markdown",
   "metadata": {},
   "source": [
    "## Fisher's Exact Test"
   ]
  },
  {
   "cell_type": "code",
   "execution_count": 38,
   "metadata": {},
   "outputs": [
    {
     "data": {
      "text/plain": [
       "0.020522715992754428"
      ]
     },
     "execution_count": 38,
     "metadata": {},
     "output_type": "execute_result"
    }
   ],
   "source": [
    "oddsRatio, pValueFET = stats.fisher_exact([\n",
    "    [obs['a'], obs['c']], \n",
    "    [obs['b'], obs['d']]\n",
    "], alternative = \"less\")\n",
    "pValueFET"
   ]
  },
  {
   "cell_type": "markdown",
   "metadata": {},
   "source": [
    "Much like the ${\\chi}^2$ test, we can reject the null hypothesis that there is not a difference between Ascorbic Acid and placebo treatments.\n",
    "\n",
    "#### Difference from ${\\chi}^2$ test (|${\\chi}^2$ p-value - Fisher's p-value|)"
   ]
  },
  {
   "cell_type": "code",
   "execution_count": 37,
   "metadata": {},
   "outputs": [
    {
     "data": {
      "text/plain": [
       "0.0077491442540681722"
      ]
     },
     "execution_count": 37,
     "metadata": {},
     "output_type": "execute_result"
    }
   ],
   "source": [
    "abs(pValueChiSq - pValueFET)"
   ]
  },
  {
   "cell_type": "markdown",
   "metadata": {},
   "source": [
    "## Relative Risk Ratio\n",
    "\n",
    "For the purpose of clarity, we’ll define the following variables:\n",
    "\n",
    "* Exposed: treatment by Ascorbic Acid\n",
    "* Nonexposed: treatment by Placebo\n",
    "* Disease: presence of cold symptoms after 2 weeks\n",
    "* Nondisease: non-presence of cold symptoms"
   ]
  },
  {
   "cell_type": "code",
   "execution_count": 51,
   "metadata": {},
   "outputs": [
    {
     "data": {
      "text/plain": [
       "12.409673645990857"
      ]
     },
     "execution_count": 51,
     "metadata": {},
     "output_type": "execute_result"
    }
   ],
   "source": [
    "exposed = obs['a'] + obs['c']\n",
    "nonExposed = obs['b'] + obs['d']\n",
    "\n",
    "rr = (obs['a'] / exposed) / (obs['b'] / nonExposed)\n",
    "rr\n",
    "\n",
    "se = (1 / obs['a'])**0.5\n",
    "se"
   ]
  }
 ],
 "metadata": {
  "kernelspec": {
   "display_name": "Python 3",
   "language": "python",
   "name": "python3"
  },
  "language_info": {
   "codemirror_mode": {
    "name": "ipython",
    "version": 3
   },
   "file_extension": ".py",
   "mimetype": "text/x-python",
   "name": "python",
   "nbconvert_exporter": "python",
   "pygments_lexer": "ipython3",
   "version": "3.6.3"
  }
 },
 "nbformat": 4,
 "nbformat_minor": 2
}
