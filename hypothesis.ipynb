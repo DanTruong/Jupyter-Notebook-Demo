{
 "cells": [
  {
   "cell_type": "markdown",
   "metadata": {
    "collapsed": true
   },
   "source": [
    "The purpose of this demo document is to show the capabilities of Python towards performing hypothesis testing. For a test example, we'll look at a hypothetical scenario where the effect of ascorbic acid is evaluated against the common cold. The data is based on a 1961 experiment where 279 French skiers were given either ascorbic acid or a placebo. After two weeks, they were examined to determine if they still had symptoms of the cold. \n",
    "\n",
    "| Treatment     | Cold | No Cold | Total |\n",
    "|---------------|------|---------|-------|\n",
    "| Placebo       | 31   | 109     | 140   |\n",
    "| Ascorbic Acid | 17   | 122     | 139   |\n",
    "| Total         | 48   | 231     | 279   |\n",
    "\n"
   ]
  },
  {
   "cell_type": "markdown",
   "metadata": {},
   "source": [
    "## Defining the Null and Alternative Hypothesis\n",
    "\n",
    "To define the null and alternative hypotheses, we must frame them off of what we are looking to investigate. As defined above, we want to see how effective Ascorbic Acid is in preventing cold symptoms (link between ascorbic acid and cold symptoms). Because this is a case-control experiment, we'll define the case as those that have cold symptoms and the control as those without. Let $P_1$ be the amount of Ascorbic Acid user that are afflicted with the cold and $P_2$ without.\n",
    "\n",
    "* $H_0: P_1 = P_2$\n",
    "* $H_1: P_1 \\neq P_2$"
   ]
  },
  {
   "cell_type": "markdown",
   "metadata": {},
   "source": [
    "## Generate Expected Distribution"
   ]
  },
  {
   "cell_type": "code",
   "execution_count": 60,
   "metadata": {},
   "outputs": [
    {
     "name": "stdout",
     "output_type": "stream",
     "text": [
      "{  'Ascorbic Acid Treatment, Cold Symptoms': 23.913978494623656,\n",
      "   'Ascorbic Acid Treatment, No Cold Symptoms': 115.08602150537635,\n",
      "   'Placebo Treatment, Cold Symptoms': 24.086021505376344,\n",
      "   'Placebo Treatment, No Cold Symptoms': 115.91397849462365}\n"
     ]
    }
   ],
   "source": [
    "# Observed Distribution Array\n",
    "obs = {\n",
    "    \"a\" : 17, ## Ascorbic Acid Treatment, Cold Symptoms \n",
    "    \"b\" : 31, ## Placebo Treatment, Cold Symptoms\n",
    "    \"c\" : 122, ## Ascorbic Acid Treatment, No Cold Symptoms\n",
    "    \"d\" : 109 ## Placebo Treatment, No Cold Symptoms\n",
    "}\n",
    "\n",
    "n = sum(obs.values()) ## Sum of participants\n",
    "\n",
    "aEXP = (obs['a'] + obs['b']) * (obs['a'] + obs['c']) / n\n",
    "bEXP = (obs['a'] + obs['b']) * (obs['b'] + obs['d']) / n\n",
    "cEXP = (obs['c'] + obs['d']) * (obs['a'] + obs['c']) / n\n",
    "dEXP = (obs['c'] + obs['d']) * (obs['b'] + obs['d']) / n\n",
    "\n",
    "## Expected Distribution Array\n",
    "exp = {\n",
    "    \"Ascorbic Acid Treatment, Cold Symptoms\" : aEXP,\n",
    "    \"Placebo Treatment, Cold Symptoms\" : bEXP,\n",
    "    \"Ascorbic Acid Treatment, No Cold Symptoms\" : cEXP,\n",
    "    \"Placebo Treatment, No Cold Symptoms\" : dEXP\n",
    "}\n",
    "\n",
    "import pprint\n",
    "pprint.PrettyPrinter(indent = 3).pprint(exp)"
   ]
  },
  {
   "cell_type": "markdown",
   "metadata": {},
   "source": [
    "## ${\\chi}^2$ Distribution"
   ]
  },
  {
   "cell_type": "code",
   "execution_count": 61,
   "metadata": {},
   "outputs": [
    {
     "name": "stdout",
     "output_type": "stream",
     "text": [
      "Chi-squared value: 4.81141264632079\n"
     ]
    }
   ],
   "source": [
    "arrVals = [\n",
    "    abs(obs['a'] - aEXP) ** 2 / aEXP,\n",
    "    abs(obs['b'] - bEXP) ** 2 / bEXP,\n",
    "    abs(obs['c'] - cEXP) ** 2 / cEXP,\n",
    "    abs(obs['d'] - dEXP) ** 2 / dEXP,\n",
    "]\n",
    "\n",
    "print(\"Chi-squared value: \" + str(sum(arrVals)))"
   ]
  },
  {
   "cell_type": "markdown",
   "metadata": {},
   "source": [
    "#### P-value (with 1 DF)"
   ]
  },
  {
   "cell_type": "code",
   "execution_count": 62,
   "metadata": {},
   "outputs": [
    {
     "name": "stdout",
     "output_type": "stream",
     "text": [
      "P-value: 0.0282718602468\n"
     ]
    }
   ],
   "source": [
    "from scipy import stats\n",
    "pValueChiSq = 1 - stats.chi2.cdf(sum(arrVals) , 1) \n",
    "\n",
    "print(\"P-value: \" + str(pValueChiSq))"
   ]
  },
  {
   "cell_type": "markdown",
   "metadata": {},
   "source": [
    "Based on the p-value from the ${\\chi}^2$ test (p < 0.05), we can reject the null hypothesis that there is not a difference between Ascorbic Acid and placebo treatments."
   ]
  },
  {
   "cell_type": "markdown",
   "metadata": {},
   "source": [
    "## Fisher's Exact Test"
   ]
  },
  {
   "cell_type": "code",
   "execution_count": 63,
   "metadata": {},
   "outputs": [
    {
     "name": "stdout",
     "output_type": "stream",
     "text": [
      "P-value: 0.0205227159928\n"
     ]
    }
   ],
   "source": [
    "oddsRatio, pValueFET = stats.fisher_exact([\n",
    "    [obs['a'], obs['c']], \n",
    "    [obs['b'], obs['d']]\n",
    "], alternative = \"less\")\n",
    "\n",
    "print(\"P-value: \" + str(pValueFET))"
   ]
  },
  {
   "cell_type": "markdown",
   "metadata": {},
   "source": [
    "Much like the ${\\chi}^2$ test, we can reject the null hypothesis that there is not a difference between Ascorbic Acid and placebo treatments.\n",
    "\n",
    "#### Difference from ${\\chi}^2$ test (|${\\chi}^2$ p-value - Fisher's p-value|)"
   ]
  },
  {
   "cell_type": "code",
   "execution_count": 64,
   "metadata": {},
   "outputs": [
    {
     "name": "stdout",
     "output_type": "stream",
     "text": [
      "0.00774914425407\n"
     ]
    }
   ],
   "source": [
    "print(abs(pValueChiSq - pValueFET))"
   ]
  },
  {
   "cell_type": "markdown",
   "metadata": {},
   "source": [
    "## Relative Risk and Odds Ratio\n",
    "\n",
    "For the purpose of clarity, we’ll define the following variables:\n",
    "\n",
    "* Exposed: treatment by Ascorbic Acid\n",
    "* Nonexposed: treatment by Placebo\n",
    "* Disease: presence of cold symptoms after 2 weeks\n",
    "* Nondisease: non-presence of cold symptoms\n",
    "\n",
    "We will also redefine the variables 'a', 'b', 'c', & 'd' as follows:\n",
    "\n",
    "* a = Exposed group with diseased outcome (17)\n",
    "* b = Exposed group with non-diseased outcome (122)\n",
    "* c = Nonexposed group with diseased outcome (31)\n",
    "* d = Nonexposed group with non-diseased outcome (109)\n",
    "\n",
    "#### Relative Risk Ratio"
   ]
  },
  {
   "cell_type": "code",
   "execution_count": 65,
   "metadata": {},
   "outputs": [
    {
     "name": "stdout",
     "output_type": "stream",
     "text": [
      "Relative Risk Ratio: 0.5523323276862382\n",
      "95% Confidence Interval: [0.32091461822682626, 0.9506298026962117]\n",
      "P-value: 0.0321321040704\n"
     ]
    }
   ],
   "source": [
    "import math\n",
    "\n",
    "a = obs['a']\n",
    "b = obs['c']\n",
    "c = obs['b']\n",
    "d = obs['d']\n",
    "\n",
    "## Relative Risk Ratio\n",
    "rr = (a / (a + b)) / (c / (c + d))\n",
    "\n",
    "## Standard Error of ln(Relative Risk)\n",
    "se = math.sqrt(1 / a + 1 / c - 1 / (a + b) - 1 / (c + d))\n",
    "\n",
    "## 95% Confidence Interval\n",
    "lowBound = math.exp(math.log(rr) - 1.96 * se)\n",
    "highBound = math.exp(math.log(rr) + 1.96 * se)\n",
    "\n",
    "## Standard Normal Deviate\n",
    "zScore = math.log(rr) / se\n",
    "\n",
    "## Two-tailed P-value\n",
    "pValue = stats.norm.sf(abs(zScore)) * 2\n",
    "\n",
    "print(\"Relative Risk Ratio: \" + str(rr))\n",
    "print(\"95% Confidence Interval: [\" \n",
    "      + str(lowBound) + \", \" + str(highBound) + \"]\")\n",
    "print(\"P-value: \" + str(pValue))"
   ]
  },
  {
   "cell_type": "markdown",
   "metadata": {},
   "source": [
    "Because the Relative Risk ratio is 0.55 (< 1.0) at a 95% CI, we can say that (based on the RR ratio) there is a decreased chance that a risk exists between taking Ascorbic Acid and developing cold symptoms. This is further evidenced by the reported CIs [0.3209, 0.9506] not breaching 1.0.\n",
    "\n",
    "#### Odds Ratio"
   ]
  },
  {
   "cell_type": "code",
   "execution_count": 66,
   "metadata": {},
   "outputs": [
    {
     "name": "stdout",
     "output_type": "stream",
     "text": [
      "Odds Ratio: 0.48995240613432045\n",
      "95% Confidence Interval: [0.25693886701875085, 0.9342820066973032]\n",
      "P-value: 0.030279474415\n"
     ]
    }
   ],
   "source": [
    "odds = (a * d) / (b * c)\n",
    "\n",
    "## Standard Error of ln(Odds Ratio)\n",
    "se = math.sqrt(1 / a + 1 / b + 1 / c + 1 / d)\n",
    "\n",
    "## 95% Confidence Interval\n",
    "lowBound = math.exp(math.log(odds) - 1.96 * se)\n",
    "highBound = math.exp(math.log(odds) + 1.96 * se)\n",
    "\n",
    "## Standard Normal Deviate\n",
    "zScore = math.log(odds) / se\n",
    "\n",
    "## Two-tailed P-value\n",
    "pValue = stats.norm.sf(abs(zScore)) * 2\n",
    "\n",
    "print(\"Odds Ratio: \" + str(odds))\n",
    "print(\"95% Confidence Interval: [\" \n",
    "      + str(lowBound) + \", \" + str(highBound) + \"]\")\n",
    "print(\"P-value: \" + str(pValue))"
   ]
  },
  {
   "cell_type": "markdown",
   "metadata": {},
   "source": [
    "Much like the Relative Risk ratio above, we can say that there is a decreased chance that a risk exists between\n",
    "Ascorbic Acid and cold symptoms (based on the ratio = 0.49 and the confidence interval at 95% [0.2569,\n",
    "0.9342] not breaching 1.0)."
   ]
  }
 ],
 "metadata": {
  "kernelspec": {
   "display_name": "Python 3",
   "language": "python",
   "name": "python3"
  },
  "language_info": {
   "codemirror_mode": {
    "name": "ipython",
    "version": 3
   },
   "file_extension": ".py",
   "mimetype": "text/x-python",
   "name": "python",
   "nbconvert_exporter": "python",
   "pygments_lexer": "ipython3",
   "version": "3.6.3"
  }
 },
 "nbformat": 4,
 "nbformat_minor": 2
}
